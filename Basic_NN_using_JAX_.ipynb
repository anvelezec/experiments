{
  "nbformat": 4,
  "nbformat_minor": 0,
  "metadata": {
    "colab": {
      "name": "Basic NN using JAX .ipynb",
      "provenance": [],
      "collapsed_sections": [],
      "toc_visible": true,
      "authorship_tag": "ABX9TyNriWzjn9n/n76b8SrPf0Vu",
      "include_colab_link": true
    },
    "kernelspec": {
      "name": "python3",
      "display_name": "Python 3"
    }
  },
  "cells": [
    {
      "cell_type": "markdown",
      "metadata": {
        "id": "view-in-github",
        "colab_type": "text"
      },
      "source": [
        "<a href=\"https://colab.research.google.com/github/anvelezec/experiments/blob/master/Basic_NN_using_JAX_.ipynb\" target=\"_parent\"><img src=\"https://colab.research.google.com/assets/colab-badge.svg\" alt=\"Open In Colab\"/></a>"
      ]
    },
    {
      "cell_type": "code",
      "metadata": {
        "id": "fhWmYEjPhyX8"
      },
      "source": [
        "import jax.numpy as jnp\n",
        "from jax import grad, jit, vmap\n",
        "from jax import random\n",
        "import numpy as np\n",
        "import matplotlib.pyplot as plt"
      ],
      "execution_count": 1,
      "outputs": []
    },
    {
      "cell_type": "markdown",
      "metadata": {
        "id": "EnrKzHpP_BoU"
      },
      "source": [
        "# **NN using JAX**\n",
        "\n",
        "This notebook has as goal to point in a clear way how to use **JAX** grad function in optimization models. We ilustrate it with a simple neural network with one layer. At the end we compare the results of both found and real parameters used to simulated data.\n"
      ]
    },
    {
      "cell_type": "markdown",
      "metadata": {
        "id": "5u1HGDVKg_-h"
      },
      "source": [
        "# **Parameter definition**"
      ]
    },
    {
      "cell_type": "code",
      "metadata": {
        "id": "r1qzAvH4gFHM"
      },
      "source": [
        "size = 10\n",
        "W_real = np.array([2.5]).reshape((1,1))\n",
        "X = np.linspace(0, 10, size).reshape((1, size))\n",
        "b_real = 0.5"
      ],
      "execution_count": 2,
      "outputs": []
    },
    {
      "cell_type": "code",
      "metadata": {
        "id": "LUnaTNHtl5Oh"
      },
      "source": [
        "y_true = W_real.T.dot(X) + b_real"
      ],
      "execution_count": 3,
      "outputs": []
    },
    {
      "cell_type": "code",
      "metadata": {
        "id": "Q-KZE9FWwkFI",
        "outputId": "4201134c-238b-402b-8d16-92f9b0f7804b",
        "colab": {
          "base_uri": "https://localhost:8080/",
          "height": 85
        }
      },
      "source": [
        "print(y_true)\n",
        "print(X)"
      ],
      "execution_count": 4,
      "outputs": [
        {
          "output_type": "stream",
          "text": [
            "[[ 0.5         3.27777778  6.05555556  8.83333333 11.61111111 14.38888889\n",
            "  17.16666667 19.94444444 22.72222222 25.5       ]]\n",
            "[[ 0.          1.11111111  2.22222222  3.33333333  4.44444444  5.55555556\n",
            "   6.66666667  7.77777778  8.88888889 10.        ]]\n"
          ],
          "name": "stdout"
        }
      ]
    },
    {
      "cell_type": "code",
      "metadata": {
        "id": "t6twGwH4m2gF",
        "outputId": "6f17c24e-d286-426d-cab0-7f399a489a5a",
        "colab": {
          "base_uri": "https://localhost:8080/",
          "height": 282
        }
      },
      "source": [
        "plt.plot(X.T, y_true.T)"
      ],
      "execution_count": 5,
      "outputs": [
        {
          "output_type": "execute_result",
          "data": {
            "text/plain": [
              "[<matplotlib.lines.Line2D at 0x7fe6c78ba198>]"
            ]
          },
          "metadata": {
            "tags": []
          },
          "execution_count": 5
        },
        {
          "output_type": "display_data",
          "data": {
            "image/png": "[encoded data removed]",
            "text/plain": [
              "<Figure size 432x288 with 1 Axes>"
            ]
          },
          "metadata": {
            "tags": [],
            "needs_background": "light"
          }
        }
      ]
    },
    {
      "cell_type": "markdown",
      "metadata": {
        "id": "Xq-J-C0ulyiE"
      },
      "source": [
        "# **Forward layer definition**"
      ]
    },
    {
      "cell_type": "code",
      "metadata": {
        "id": "CNuZKwBok1Sx"
      },
      "source": [
        "def forward(X, W, b):\n",
        "  y_pred = W.T.dot(X) + b\n",
        "  return y_pred"
      ],
      "execution_count": 6,
      "outputs": []
    },
    {
      "cell_type": "code",
      "metadata": {
        "id": "8PLkAaZ7rfSl"
      },
      "source": [
        "# Initialization\n",
        "i_neurons = 1\n",
        "o_neurons = 1\n",
        "\n",
        "b = np.random.rand(1).reshape((1, 1))\n",
        "W = np.random.rand(i_neurons, o_neurons)\n",
        "X = np.linspace(0, 10, 10).reshape((1, 10))"
      ],
      "execution_count": 7,
      "outputs": []
    },
    {
      "cell_type": "code",
      "metadata": {
        "id": "IBElnEr0kV7t",
        "outputId": "53cac294-6142-4edf-cef2-35320392b208",
        "colab": {
          "base_uri": "https://localhost:8080/",
          "height": 51
        }
      },
      "source": [
        "y_pred = forward(X, W, b)\n",
        "print(y_pred)"
      ],
      "execution_count": 8,
      "outputs": [
        {
          "output_type": "stream",
          "text": [
            "[[0.36652577 0.76054568 1.15456558 1.54858549 1.9426054  2.3366253\n",
            "  2.73064521 3.12466512 3.51868502 3.91270493]]\n"
          ],
          "name": "stdout"
        }
      ]
    },
    {
      "cell_type": "markdown",
      "metadata": {
        "id": "nK-5THl4mQsY"
      },
      "source": [
        "# **Loss function definition (MSE)**"
      ]
    },
    {
      "cell_type": "code",
      "metadata": {
        "id": "iV8Q0MqYmURP"
      },
      "source": [
        "def loss(y_true, y_pred):\n",
        "  error = jnp.mean(jnp.power(y_true - y_pred, 2))\n",
        "  return error"
      ],
      "execution_count": 9,
      "outputs": []
    },
    {
      "cell_type": "code",
      "metadata": {
        "id": "18cKp4LK2SoK",
        "outputId": "ff79ed34-a76b-41e8-df2e-5a197c117543",
        "colab": {
          "base_uri": "https://localhost:8080/",
          "height": 68
        }
      },
      "source": [
        "x1 = np.array([0.5, 1.2])\n",
        "x2 = np.array([0.5, 1.2])\n",
        "jnp.mean(jnp.power(x1 - x2, 2))"
      ],
      "execution_count": 10,
      "outputs": [
        {
          "output_type": "stream",
          "text": [
            "/usr/local/lib/python3.6/dist-packages/jax/lib/xla_bridge.py:130: UserWarning: No GPU/TPU found, falling back to CPU.\n",
            "  warnings.warn('No GPU/TPU found, falling back to CPU.')\n"
          ],
          "name": "stderr"
        },
        {
          "output_type": "execute_result",
          "data": {
            "text/plain": [
              "DeviceArray(0., dtype=float32)"
            ]
          },
          "metadata": {
            "tags": []
          },
          "execution_count": 10
        }
      ]
    },
    {
      "cell_type": "code",
      "metadata": {
        "id": "qhjh3YaUnP7j",
        "outputId": "ec31e892-8b3f-4f91-cd1e-745846c3e82c",
        "colab": {
          "base_uri": "https://localhost:8080/",
          "height": 34
        }
      },
      "source": [
        "# Random loss \n",
        "loss(y_true=y_true, y_pred=y_pred)"
      ],
      "execution_count": 11,
      "outputs": [
        {
          "output_type": "execute_result",
          "data": {
            "text/plain": [
              "DeviceArray(164.82693, dtype=float32)"
            ]
          },
          "metadata": {
            "tags": []
          },
          "execution_count": 11
        }
      ]
    },
    {
      "cell_type": "markdown",
      "metadata": {
        "id": "hz9c1206oY0m"
      },
      "source": [
        "# **Wrappers**"
      ]
    },
    {
      "cell_type": "markdown",
      "metadata": {
        "id": "9h4nl5xWBWM1"
      },
      "source": [
        "## Way 1 to define a wrapper function:\n",
        "In this format we separate the loss function respect the forward pass\n"
      ]
    },
    {
      "cell_type": "code",
      "metadata": {
        "id": "sK9xfo6hnz3v"
      },
      "source": [
        "def wrapper1(X, W, b, y_true):\n",
        "  y_pred = forward(X, W, b)\n",
        "  error = loss(y_true, y_pred)\n",
        "  return error"
      ],
      "execution_count": 12,
      "outputs": []
    },
    {
      "cell_type": "code",
      "metadata": {
        "id": "_mwJrpu-yHoP",
        "outputId": "0c4bb642-eeda-443c-ab11-c411dec7ed1f",
        "colab": {
          "base_uri": "https://localhost:8080/",
          "height": 51
        }
      },
      "source": [
        "W_grad = grad(wrapper1, argnums=1)(X, W, b, y_true)\n",
        "b_grad = grad(wrapper1, argnums=2)(X, W, b, y_true)\n",
        "\n",
        "print(W_grad)\n",
        "print(b_grad)"
      ],
      "execution_count": 13,
      "outputs": [
        {
          "output_type": "stream",
          "text": [
            "[[-152.30608]]\n",
            "[[-21.720768]]\n"
          ],
          "name": "stdout"
        }
      ]
    },
    {
      "cell_type": "markdown",
      "metadata": {
        "id": "R3ZCvvMPBf1h"
      },
      "source": [
        "## Way 2 to define a wrapper function: \n",
        "In this format we combine the loss function with the forward pass"
      ]
    },
    {
      "cell_type": "code",
      "metadata": {
        "id": "q7dSmQ3hBeqt"
      },
      "source": [
        "# Way 2 to define a wrapper function: In this format we combine the loss function with the forward pass\n",
        "def wrapper2(X, W, b, y_true):\n",
        "  y_pred = W.T.dot(X) + b\n",
        "  error = loss(y_true, y_pred)\n",
        "  return error"
      ],
      "execution_count": 14,
      "outputs": []
    },
    {
      "cell_type": "code",
      "metadata": {
        "id": "yYROuA5V9PJe",
        "outputId": "9127681e-0fc2-4875-f670-1124eea21541",
        "colab": {
          "base_uri": "https://localhost:8080/",
          "height": 51
        }
      },
      "source": [
        "W_grad = grad(wrapper2, argnums=1)(X, W, b, y_true)\n",
        "b_grad = grad(wrapper2, argnums=2)(X, W, b, y_true)\n",
        "\n",
        "print(W_grad)\n",
        "print(b_grad)"
      ],
      "execution_count": 15,
      "outputs": [
        {
          "output_type": "stream",
          "text": [
            "[[-152.30608]]\n",
            "[[-21.720768]]\n"
          ],
          "name": "stdout"
        }
      ]
    },
    {
      "cell_type": "markdown",
      "metadata": {
        "id": "vEToW5Yao4tZ"
      },
      "source": [
        "# **Optimization** \n",
        "Using Gradient descent as optimization function. Take into account we are using the JAX **grad** function which facilitates the parameters gradients computation which is equivalent to the partial derivate of the loss function respect all the parameters we need to estimate.\n",
        "\n",
        "I create two training functions with the aim to test both defined wrappers."
      ]
    },
    {
      "cell_type": "code",
      "metadata": {
        "id": "JnaUXSKuoul2"
      },
      "source": [
        "def train1(X, W, b, y_true, learning_rate, epochs):\n",
        "  for i in range(epochs):\n",
        "      W -= learning_rate * grad(wrapper1, argnums=1)(X, W, b, y_true)\n",
        "      b -= learning_rate * grad(wrapper1, argnums=2)(X, W, b, y_true)\n",
        "      params = {\"W\": W, \"b\":b}\n",
        "\n",
        "      if i % 10 == 0:\n",
        "          print(wrapper1(X, W, b, y_true))\n",
        "\n",
        "  return params"
      ],
      "execution_count": 16,
      "outputs": []
    },
    {
      "cell_type": "code",
      "metadata": {
        "id": "lfOvCthT-NNM"
      },
      "source": [
        "def train2(X, W, b, y_true, learning_rate, epochs):\n",
        "  for i in range(epochs):\n",
        "      W -= learning_rate * grad(wrapper2, argnums=1)(X, W, b, y_true)\n",
        "      b -= learning_rate * grad(wrapper2, argnums=2)(X, W, b, y_true)\n",
        "      params = {\"W\": W, \"b\":b}\n",
        "      \n",
        "      if i % 10 == 0:\n",
        "          print(wrapper(X, W, b, y_true))\n",
        "\n",
        "  return params"
      ],
      "execution_count": 17,
      "outputs": []
    },
    {
      "cell_type": "markdown",
      "metadata": {
        "id": "pA_Ozwl2hP6P"
      },
      "source": [
        "# **Parameter initialization**\n",
        "Using two forms of parameter initialization. This is a really important topic when training models end-to-end."
      ]
    },
    {
      "cell_type": "code",
      "metadata": {
        "id": "1y3Zu3Lsn-hJ",
        "outputId": "1be32cd3-62fa-4e83-f0ca-54a301e2e1fa",
        "colab": {
          "base_uri": "https://localhost:8080/",
          "height": 51
        }
      },
      "source": [
        "# Initialization\n",
        "i_neurons = 1\n",
        "o_neurons = 1\n",
        "init = \"random\"\n",
        "\n",
        "X = np.linspace(0, 10, size).reshape((1, size))\n",
        "\n",
        "if init == \"random\":\n",
        "  b = np.random.rand(1).reshape((1, 1))\n",
        "  W = np.random.rand(i_neurons, o_neurons)\n",
        "\n",
        "if init == \"zero\":\n",
        "  b = np.zeros(1).reshape((1, 1))\n",
        "  W = np.zeros((i_neurons, o_neurons))\n",
        "\n",
        "print(W)\n",
        "print(b)"
      ],
      "execution_count": 18,
      "outputs": [
        {
          "output_type": "stream",
          "text": [
            "[[0.88927794]]\n",
            "[[0.35029664]]\n"
          ],
          "name": "stdout"
        }
      ]
    },
    {
      "cell_type": "markdown",
      "metadata": {
        "id": "oEU6rvvyrFv2"
      },
      "source": [
        "# **Training**\n",
        "When the parameter convergence depend significatively in the parameter initialization and learning rate."
      ]
    },
    {
      "cell_type": "code",
      "metadata": {
        "id": "0O0OA7rerH4P",
        "outputId": "bce3a5bd-5015-415a-a432-9166ad812ef2",
        "colab": {
          "base_uri": "https://localhost:8080/",
          "height": 374
        }
      },
      "source": [
        "params = train1(X=X, W=W, b=b, y_true=y_true, learning_rate=0.001, epochs=200)\n",
        "print(params)"
      ],
      "execution_count": 19,
      "outputs": [
        {
          "output_type": "stream",
          "text": [
            "80.76137\n",
            "18.2379\n",
            "4.1192784\n",
            "0.93108404\n",
            "0.21112747\n",
            "0.04853443\n",
            "0.011806176\n",
            "0.003501206\n",
            "0.0016155271\n",
            "0.0011799701\n",
            "0.0010722143\n",
            "0.0010387257\n",
            "0.0010221124\n",
            "0.0010094398\n",
            "0.0009977681\n",
            "0.0009864203\n",
            "0.0009752683\n",
            "0.00096422917\n",
            "0.0009533437\n",
            "0.0009425531\n",
            "{'W': DeviceArray([[2.491867]], dtype=float32), 'b': DeviceArray([[0.55676645]], dtype=float32)}\n"
          ],
          "name": "stdout"
        }
      ]
    },
    {
      "cell_type": "markdown",
      "metadata": {
        "id": "cv-YY-d_5mgt"
      },
      "source": [
        "# **Prediction and parameter validation**\n",
        "Generating predictions with estimated parameters. The interesting part here is we were able to estimate aproximately the correct parameters by using the grad function of **JAX** without having to worry too much about the partial differentiation of each parameter with respect the loss function."
      ]
    },
    {
      "cell_type": "code",
      "metadata": {
        "id": "WNDfJtKZ5qoy"
      },
      "source": [
        "W_est = params[\"W\"]\n",
        "b_est = params[\"b\"]\n",
        "\n",
        "y_pred = forward(X, W=W_est, b=b_est)"
      ],
      "execution_count": 20,
      "outputs": []
    },
    {
      "cell_type": "code",
      "metadata": {
        "id": "8ircLNfA6AjJ",
        "outputId": "7e4032a4-42b0-41ac-f85f-65aa682069d9",
        "colab": {
          "base_uri": "https://localhost:8080/",
          "height": 34
        }
      },
      "source": [
        "loss(y_true=y_true, y_pred=y_pred)"
      ],
      "execution_count": 21,
      "outputs": [
        {
          "output_type": "execute_result",
          "data": {
            "text/plain": [
              "DeviceArray(0.00093297, dtype=float32)"
            ]
          },
          "metadata": {
            "tags": []
          },
          "execution_count": 21
        }
      ]
    },
    {
      "cell_type": "code",
      "metadata": {
        "id": "r9hALAN6HW_4",
        "outputId": "9897c5a3-4899-4a4b-ed4c-d87be07723e0",
        "colab": {
          "base_uri": "https://localhost:8080/",
          "height": 373
        }
      },
      "source": [
        "plt.rcParams[\"figure.figsize\"] = (20,5)\n",
        "\n",
        "fig, axs = plt.subplots(1, 2)\n",
        "fig.suptitle('Vertically stacked subplots')\n",
        "axs[0].plot(X.T, y_true.T)\n",
        "axs[0].text(2, 20, 'y = ' + str(W_real[0][0]) + \" X + \" + str(b_real),\n",
        "         rotation=20,\n",
        "         horizontalalignment='center',\n",
        "         verticalalignment='top',\n",
        "         multialignment='center')\n",
        "\n",
        "axs[1].plot(X.T, y_pred.T)\n",
        "axs[1].text(2, 20, 'y = ' + str(W_est[0][0]) + \" X + \" + str(b_est[0][0]),\n",
        "         rotation=20,\n",
        "         horizontalalignment='center',\n",
        "         verticalalignment='top',\n",
        "         multialignment='center')"
      ],
      "execution_count": 22,
      "outputs": [
        {
          "output_type": "execute_result",
          "data": {
            "text/plain": [
              "Text(2, 20, 'y = 2.491867 X + 0.55676645')"
            ]
          },
          "metadata": {
            "tags": []
          },
          "execution_count": 22
        },
        {
          "output_type": "display_data",
          "data": {
            "image/png": "[encoded data removed]",
            "text/plain": [
              "<Figure size 1440x360 with 2 Axes>"
            ]
          },
          "metadata": {
            "tags": [],
            "needs_background": "light"
          }
        }
      ]
    },
    {
      "cell_type": "markdown",
      "metadata": {
        "id": "Z6IjN7lOl-1d"
      },
      "source": [
        "# References\n",
        "* https://jax.readthedocs.io/en/latest/notebooks/autodiff_cookbook.html\n",
        "* https://colindcarroll.com/2019/04/06/exercises-in-automatic-differentiation-using-autograd-and-jax/\n",
        "* https://www.kaggle.com/grez911/tutorial-efficient-gradient-descent-with-jax"
      ]
    }
  ]
}