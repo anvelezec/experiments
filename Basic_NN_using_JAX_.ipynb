{
  "nbformat": 4,
  "nbformat_minor": 0,
  "metadata": {
    "colab": {
      "name": "Basic NN using JAX .ipynb",
      "provenance": [],
      "collapsed_sections": [],
      "toc_visible": true,
      "authorship_tag": "ABX9TyMgGmKMMrwPjJzfI5uqs9n7",
      "include_colab_link": true
    },
    "kernelspec": {
      "name": "python3",
      "display_name": "Python 3"
    }
  },
  "cells": [
    {
      "cell_type": "markdown",
      "metadata": {
        "id": "view-in-github",
        "colab_type": "text"
      },
      "source": [
        "<a href=\"https://colab.research.google.com/github/anvelezec/experiments/blob/master/Basic_NN_using_JAX_.ipynb\" target=\"_parent\"><img src=\"https://colab.research.google.com/assets/colab-badge.svg\" alt=\"Open In Colab\"/></a>"
      ]
    },
    {
      "cell_type": "code",
      "metadata": {
        "id": "fhWmYEjPhyX8"
      },
      "source": [
        "import jax.numpy as jnp\n",
        "from jax import grad, jit, vmap\n",
        "from jax import random\n",
        "import numpy as np\n",
        "import matplotlib.pyplot as plt"
      ],
      "execution_count": 1,
      "outputs": []
    },
    {
      "cell_type": "markdown",
      "metadata": {
        "id": "EnrKzHpP_BoU"
      },
      "source": [
        "# **NN using JAX**\n",
        "\n",
        "This notebook has as goal to point in a clear way how to use **JAX** grad function in optimization models. We ilustrate it with a simple neural network with one layer. At the end we compare the results of both found and real parameters used to simulated data.\n",
        "\n",
        "```\n",
        "# This is formatted as code\n",
        "```\n",
        "\n",
        "\n",
        "\n"
      ]
    },
    {
      "cell_type": "markdown",
      "metadata": {
        "id": "5u1HGDVKg_-h"
      },
      "source": [
        "# **Parameter definition**"
      ]
    },
    {
      "cell_type": "code",
      "metadata": {
        "id": "r1qzAvH4gFHM"
      },
      "source": [
        "size = 10\n",
        "W_real = np.array([2.5]).reshape((1,1))\n",
        "X = np.linspace(0, 10, size).reshape((1, size))\n",
        "b_real = 0.5"
      ],
      "execution_count": 2,
      "outputs": []
    },
    {
      "cell_type": "code",
      "metadata": {
        "id": "LUnaTNHtl5Oh"
      },
      "source": [
        "y_true = W_real.T.dot(X) + b_real"
      ],
      "execution_count": 3,
      "outputs": []
    },
    {
      "cell_type": "code",
      "metadata": {
        "id": "Q-KZE9FWwkFI",
        "outputId": "fc3a8dff-ec1c-4fcb-8ad8-d0ce874ee424",
        "colab": {
          "base_uri": "https://localhost:8080/",
          "height": 85
        }
      },
      "source": [
        "print(y_true)\n",
        "print(X)"
      ],
      "execution_count": 124,
      "outputs": [
        {
          "output_type": "stream",
          "text": [
            "[[ 0.5         3.27777778  6.05555556  8.83333333 11.61111111 14.38888889\n",
            "  17.16666667 19.94444444 22.72222222 25.5       ]]\n",
            "[[ 0.          1.11111111  2.22222222  3.33333333  4.44444444  5.55555556\n",
            "   6.66666667  7.77777778  8.88888889 10.        ]]\n"
          ],
          "name": "stdout"
        }
      ]
    },
    {
      "cell_type": "code",
      "metadata": {
        "id": "t6twGwH4m2gF",
        "outputId": "85a2f71c-413e-4b30-9c35-0cabdcc16706",
        "colab": {
          "base_uri": "https://localhost:8080/",
          "height": 282
        }
      },
      "source": [
        "plt.plot(X.T, y_true.T)"
      ],
      "execution_count": 125,
      "outputs": [
        {
          "output_type": "execute_result",
          "data": {
            "text/plain": [
              "[<matplotlib.lines.Line2D at 0x7f1b2d132198>]"
            ]
          },
          "metadata": {
            "tags": []
          },
          "execution_count": 125
        },
        {
          "output_type": "display_data",
          "data": {
            "image/png": "[encoded data removed]",
            "text/plain": [
              "<Figure size 432x288 with 1 Axes>"
            ]
          },
          "metadata": {
            "tags": [],
            "needs_background": "light"
          }
        }
      ]
    },
    {
      "cell_type": "markdown",
      "metadata": {
        "id": "Xq-J-C0ulyiE"
      },
      "source": [
        "# **Forward layer definition**"
      ]
    },
    {
      "cell_type": "code",
      "metadata": {
        "id": "CNuZKwBok1Sx"
      },
      "source": [
        "def forward(X, W, b):\n",
        "  y_pred = W.T.dot(X) + b\n",
        "  return y_pred"
      ],
      "execution_count": 126,
      "outputs": []
    },
    {
      "cell_type": "code",
      "metadata": {
        "id": "8PLkAaZ7rfSl"
      },
      "source": [
        "# Initialization\n",
        "i_neurons = 1\n",
        "o_neurons = 1\n",
        "\n",
        "b = np.random.rand(1).reshape((1, 1))\n",
        "W = np.random.rand(i_neurons, o_neurons)\n",
        "X = np.linspace(0, 10, 10).reshape((1, 10))"
      ],
      "execution_count": 127,
      "outputs": []
    },
    {
      "cell_type": "code",
      "metadata": {
        "id": "IBElnEr0kV7t",
        "outputId": "9cbc3179-533e-4414-8a1b-6f9418717aa4",
        "colab": {
          "base_uri": "https://localhost:8080/",
          "height": 51
        }
      },
      "source": [
        "y_pred = forward(X, W, b)\n",
        "print(y_pred)"
      ],
      "execution_count": 128,
      "outputs": [
        {
          "output_type": "stream",
          "text": [
            "[[0.45158989 1.20042326 1.94925663 2.69809    3.44692337 4.19575674\n",
            "  4.94459011 5.69342348 6.44225685 7.19109022]]\n"
          ],
          "name": "stdout"
        }
      ]
    },
    {
      "cell_type": "markdown",
      "metadata": {
        "id": "nK-5THl4mQsY"
      },
      "source": [
        "# **Loss function definition (MSE)**"
      ]
    },
    {
      "cell_type": "code",
      "metadata": {
        "id": "iV8Q0MqYmURP"
      },
      "source": [
        "def loss(y_true, y_pred):\n",
        "  error = jnp.mean(jnp.power(y_true - y_pred, 2))\n",
        "  return error"
      ],
      "execution_count": 110,
      "outputs": []
    },
    {
      "cell_type": "code",
      "metadata": {
        "id": "18cKp4LK2SoK",
        "outputId": "9a25a23d-2882-40f1-bbd3-14cf0746d982",
        "colab": {
          "base_uri": "https://localhost:8080/",
          "height": 34
        }
      },
      "source": [
        "x1 = np.array([0.5, 1.2])\n",
        "x2 = np.array([0.5, 1.2])\n",
        "jnp.mean(jnp.power(x1 - x2, 2))"
      ],
      "execution_count": 111,
      "outputs": [
        {
          "output_type": "execute_result",
          "data": {
            "text/plain": [
              "DeviceArray(0., dtype=float32)"
            ]
          },
          "metadata": {
            "tags": []
          },
          "execution_count": 111
        }
      ]
    },
    {
      "cell_type": "code",
      "metadata": {
        "id": "qhjh3YaUnP7j",
        "outputId": "819358f6-ae7d-4981-f610-067973c0297c",
        "colab": {
          "base_uri": "https://localhost:8080/",
          "height": 34
        }
      },
      "source": [
        "# Random loss \n",
        "loss(y_true=y_true, y_pred=y_pred)"
      ],
      "execution_count": 113,
      "outputs": [
        {
          "output_type": "execute_result",
          "data": {
            "text/plain": [
              "DeviceArray(179.6659, dtype=float32)"
            ]
          },
          "metadata": {
            "tags": []
          },
          "execution_count": 113
        }
      ]
    },
    {
      "cell_type": "markdown",
      "metadata": {
        "id": "hz9c1206oY0m"
      },
      "source": [
        "# **Wrappers**"
      ]
    },
    {
      "cell_type": "markdown",
      "metadata": {
        "id": "9h4nl5xWBWM1"
      },
      "source": [
        "## Way 1 to define a wrapper function:\n",
        "In this format we separate the loss function respect the forward pass\n"
      ]
    },
    {
      "cell_type": "code",
      "metadata": {
        "id": "sK9xfo6hnz3v"
      },
      "source": [
        "def wrapper1(X, W, b, y_true):\n",
        "  y_pred = forward(X, W, b)\n",
        "  error = loss(y_true, y_pred)\n",
        "  return error"
      ],
      "execution_count": 145,
      "outputs": []
    },
    {
      "cell_type": "code",
      "metadata": {
        "id": "_mwJrpu-yHoP",
        "outputId": "1797d8a8-b9d4-4b96-e522-44bf369ed9b1",
        "colab": {
          "base_uri": "https://localhost:8080/",
          "height": 51
        }
      },
      "source": [
        "W_grad = grad(wrapper1, argnums=1)(X, W, b, y_true)\n",
        "b_grad = grad(wrapper1, argnums=2)(X, W, b, y_true)\n",
        "\n",
        "print(W_grad)\n",
        "print(b_grad)"
      ],
      "execution_count": 146,
      "outputs": [
        {
          "output_type": "stream",
          "text": [
            "[[-180.92592]]\n",
            "[[-26.000002]]\n"
          ],
          "name": "stdout"
        }
      ]
    },
    {
      "cell_type": "markdown",
      "metadata": {
        "id": "R3ZCvvMPBf1h"
      },
      "source": [
        "## Way 2 to define a wrapper function: \n",
        "In this format we combine the loss function with the forward pass"
      ]
    },
    {
      "cell_type": "code",
      "metadata": {
        "id": "q7dSmQ3hBeqt"
      },
      "source": [
        "# Way 2 to define a wrapper function: In this format we combine the loss function with the forward pass\n",
        "def wrapper2(X, W, b, y_true):\n",
        "  y_pred = W.T.dot(X) + b\n",
        "  error = loss(y_true, y_pred)\n",
        "  return error"
      ],
      "execution_count": null,
      "outputs": []
    },
    {
      "cell_type": "code",
      "metadata": {
        "id": "yYROuA5V9PJe",
        "outputId": "ec80d967-59dc-48ea-ba7b-35482429795d",
        "colab": {
          "base_uri": "https://localhost:8080/",
          "height": 51
        }
      },
      "source": [
        "W_grad = grad(wrapper2, argnums=1)(X, W, b, y_true)\n",
        "b_grad = grad(wrapper2, argnums=2)(X, W, b, y_true)\n",
        "\n",
        "print(W_grad)\n",
        "print(b_grad)"
      ],
      "execution_count": 147,
      "outputs": [
        {
          "output_type": "stream",
          "text": [
            "[[-180.92592]]\n",
            "[[-26.000002]]\n"
          ],
          "name": "stdout"
        }
      ]
    },
    {
      "cell_type": "markdown",
      "metadata": {
        "id": "vEToW5Yao4tZ"
      },
      "source": [
        "# **Optimization** \n",
        "Using Gradient descent as optimization function. Take into account we are using the JAX **grad** function which facilitates the parameters gradients computation which is equivalent to the partial derivate of the loss function respect all the parameters we need to estimate.\n",
        "\n",
        "I create two training functions with the aim to test both defined wrappers."
      ]
    },
    {
      "cell_type": "code",
      "metadata": {
        "id": "JnaUXSKuoul2"
      },
      "source": [
        "def train1(X, W, b, y_true, learning_rate, epochs):\n",
        "  for i in range(epochs):\n",
        "      W -= learning_rate * grad(wrapper1, argnums=1)(X, W, b, y_true)\n",
        "      b -= learning_rate * grad(wrapper1, argnums=2)(X, W, b, y_true)\n",
        "      params = {\"W\": W, \"b\":b}\n",
        "\n",
        "      if i % 10 == 0:\n",
        "          print(wrapper(X, W, b, y_true))\n",
        "\n",
        "  return params"
      ],
      "execution_count": 150,
      "outputs": []
    },
    {
      "cell_type": "code",
      "metadata": {
        "id": "lfOvCthT-NNM"
      },
      "source": [
        "def train2(X, W, b, y_true, learning_rate, epochs):\n",
        "  for i in range(epochs):\n",
        "      W -= learning_rate * grad(wrapper2, argnums=1)(X, W, b, y_true)\n",
        "      b -= learning_rate * grad(wrapper2, argnums=2)(X, W, b, y_true)\n",
        "      params = {\"W\": W, \"b\":b}\n",
        "      \n",
        "      if i % 10 == 0:\n",
        "          print(wrapper(X, W, b, y_true))\n",
        "\n",
        "  return params"
      ],
      "execution_count": 151,
      "outputs": []
    },
    {
      "cell_type": "markdown",
      "metadata": {
        "id": "pA_Ozwl2hP6P"
      },
      "source": [
        "# **Parameter initialization**\n",
        "Using two forms of parameter initialization. This is a really important topic when training models end-to-end."
      ]
    },
    {
      "cell_type": "code",
      "metadata": {
        "id": "1y3Zu3Lsn-hJ",
        "outputId": "49db4cb1-1b5a-4ff0-bbf4-ea776fb76e42",
        "colab": {
          "base_uri": "https://localhost:8080/",
          "height": 51
        }
      },
      "source": [
        "# Initialization\n",
        "i_neurons = 1\n",
        "o_neurons = 1\n",
        "init = \"random\"\n",
        "\n",
        "X = np.linspace(0, 10, size).reshape((1, size))\n",
        "\n",
        "if init == \"random\":\n",
        "  b = np.random.rand(1).reshape((1, 1))\n",
        "  W = np.random.rand(i_neurons, o_neurons)\n",
        "\n",
        "if init == \"zero\":\n",
        "  b = np.zeros(1).reshape((1, 1))\n",
        "  W = np.zeros((i_neurons, o_neurons))\n",
        "\n",
        "print(W)\n",
        "print(b)"
      ],
      "execution_count": 169,
      "outputs": [
        {
          "output_type": "stream",
          "text": [
            "[[0.70770345]]\n",
            "[[0.2388351]]\n"
          ],
          "name": "stdout"
        }
      ]
    },
    {
      "cell_type": "markdown",
      "metadata": {
        "id": "oEU6rvvyrFv2"
      },
      "source": [
        "# **Training**\n",
        "When the parameter convergence depend significatively in the parameter initialization and learning rate."
      ]
    },
    {
      "cell_type": "code",
      "metadata": {
        "id": "0O0OA7rerH4P",
        "outputId": "aec77f0c-afd1-4703-e941-f3ad9b58303e",
        "colab": {
          "base_uri": "https://localhost:8080/",
          "height": 374
        }
      },
      "source": [
        "params = train1(X=X, W=W, b=b, y_true=y_true, learning_rate=0.001, epochs=200)\n",
        "print(params)"
      ],
      "execution_count": 170,
      "outputs": [
        {
          "output_type": "stream",
          "text": [
            "101.49137\n",
            "22.917992\n",
            "5.175237\n",
            "1.1687205\n",
            "0.26400748\n",
            "0.05971544\n",
            "0.013584402\n",
            "0.0031671785\n",
            "0.00081401586\n",
            "0.0002815652\n",
            "0.00016030607\n",
            "0.00013187321\n",
            "0.00012438215\n",
            "0.00012162791\n",
            "0.0001199557\n",
            "0.000118525335\n",
            "0.0001171739\n",
            "0.00011584661\n",
            "0.00011453802\n",
            "0.00011324211\n",
            "{'W': DeviceArray([[2.502818]], dtype=float32), 'b': DeviceArray([[0.4803236]], dtype=float32)}\n"
          ],
          "name": "stdout"
        }
      ]
    },
    {
      "cell_type": "markdown",
      "metadata": {
        "id": "cv-YY-d_5mgt"
      },
      "source": [
        "# **Prediction and parameter validation**\n",
        "Generating predictions with estimated parameters. The interesting part here is we were able to estimate aproximately the correct parameters by using the grad function of **JAX** without having to worry too much about the partial differentiation of each parameter with respect the loss function."
      ]
    },
    {
      "cell_type": "code",
      "metadata": {
        "id": "WNDfJtKZ5qoy"
      },
      "source": [
        "W_est = params[\"W\"]\n",
        "b_est = params[\"b\"]\n",
        "\n",
        "y_pred = forward(X, W=W_est, b=b_est)"
      ],
      "execution_count": 173,
      "outputs": []
    },
    {
      "cell_type": "code",
      "metadata": {
        "id": "8ircLNfA6AjJ",
        "outputId": "008f19ee-584c-4ba6-f6bf-52a014fb9983",
        "colab": {
          "base_uri": "https://localhost:8080/",
          "height": 34
        }
      },
      "source": [
        "loss(y_true=y_true, y_pred=y_pred)"
      ],
      "execution_count": 123,
      "outputs": [
        {
          "output_type": "execute_result",
          "data": {
            "text/plain": [
              "DeviceArray(0.00619747, dtype=float32)"
            ]
          },
          "metadata": {
            "tags": []
          },
          "execution_count": 123
        }
      ]
    },
    {
      "cell_type": "code",
      "metadata": {
        "id": "EsEmGyO8ASuo",
        "outputId": "f4526dc1-f7fc-4ee8-bb02-0abb3a589e26",
        "colab": {
          "base_uri": "https://localhost:8080/",
          "height": 282
        }
      },
      "source": [
        "plt.plot(X.T, y_true.T)"
      ],
      "execution_count": 175,
      "outputs": [
        {
          "output_type": "execute_result",
          "data": {
            "text/plain": [
              "[<matplotlib.lines.Line2D at 0x7f1b2cfb02e8>]"
            ]
          },
          "metadata": {
            "tags": []
          },
          "execution_count": 175
        },
        {
          "output_type": "display_data",
          "data": {
            "image/png": "[encoded data removed]",
            "text/plain": [
              "<Figure size 432x288 with 1 Axes>"
            ]
          },
          "metadata": {
            "tags": [],
            "needs_background": "light"
          }
        }
      ]
    },
    {
      "cell_type": "code",
      "metadata": {
        "id": "o8ct4ogfAeMM",
        "outputId": "02ac3e49-ee8f-454f-e637-d4a9033c0a44",
        "colab": {
          "base_uri": "https://localhost:8080/",
          "height": 282
        }
      },
      "source": [
        "plt.plot(X.T, y_pred.T)"
      ],
      "execution_count": 176,
      "outputs": [
        {
          "output_type": "execute_result",
          "data": {
            "text/plain": [
              "[<matplotlib.lines.Line2D at 0x7f1b2d2bdcc0>]"
            ]
          },
          "metadata": {
            "tags": []
          },
          "execution_count": 176
        },
        {
          "output_type": "display_data",
          "data": {
            "image/png": "[encoded data removed]",
            "text/plain": [
              "<Figure size 432x288 with 1 Axes>"
            ]
          },
          "metadata": {
            "tags": [],
            "needs_background": "light"
          }
        }
      ]
    },
    {
      "cell_type": "markdown",
      "metadata": {
        "id": "Z6IjN7lOl-1d"
      },
      "source": [
        "# References\n",
        "* https://jax.readthedocs.io/en/latest/notebooks/autodiff_cookbook.html\n",
        "* https://colindcarroll.com/2019/04/06/exercises-in-automatic-differentiation-using-autograd-and-jax/\n",
        "* https://www.kaggle.com/grez911/tutorial-efficient-gradient-descent-with-jax"
      ]
    }
  ]
}