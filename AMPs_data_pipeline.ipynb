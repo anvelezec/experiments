{
  "nbformat": 4,
  "nbformat_minor": 0,
  "metadata": {
    "colab": {
      "name": "AMPs data pipeline.ipynb",
      "provenance": [],
      "collapsed_sections": [],
      "toc_visible": true,
      "authorship_tag": "ABX9TyOcFeq8CtWpNRr0jZkALuOK",
      "include_colab_link": true
    },
    "kernelspec": {
      "name": "python3",
      "display_name": "Python 3"
    }
  },
  "cells": [
    {
      "cell_type": "markdown",
      "metadata": {
        "id": "view-in-github",
        "colab_type": "text"
      },
      "source": [
        "<a href=\"https://colab.research.google.com/github/anvelezec/hans_on_colab/blob/master/AMPs_data_pipeline.ipynb\" target=\"_parent\"><img src=\"https://colab.research.google.com/assets/colab-badge.svg\" alt=\"Open In Colab\"/></a>"
      ]
    },
    {
      "cell_type": "markdown",
      "metadata": {
        "id": "mLRlk4CgqQdv"
      },
      "source": [
        "# Data base consolidation\n",
        "There are plenty of antimicrobial peptides (AMPs) databases on the web, some useful links that centralize universities, research groups or laboratories metadata to download them are:\n",
        "* http://crdd.osdd.net/raghava/satpdb/links.php\n",
        "* http://www.uwm.edu.pl/biochemia/index.php/en/biopep/32-bioactive-peptide-databases\n",
        " \n",
        "Sometimes the discovered AMPs are able to be downloaded in a fasta, csv or txt format. In other occasions we should use web scraping to consolidate peptides and its properties.\n",
        " \n",
        "During this notebook we are going to focus on the data pipeline creation, and we are using a database of 12794 AMPs previously constructed."
      ]
    },
    {
      "cell_type": "markdown",
      "metadata": {
        "id": "DaVP8vOvcWQ2"
      },
      "source": [
        "# Peptide generation data pipeline"
      ]
    },
    {
      "cell_type": "code",
      "metadata": {
        "id": "6LHec_FnTRK0"
      },
      "source": [
        "!pip install -q tfds-nightly"
      ],
      "execution_count": 1,
      "outputs": []
    },
    {
      "cell_type": "code",
      "metadata": {
        "id": "3FznnLgEcT6H"
      },
      "source": [
        "import tensorflow as tf\n",
        "import tensorflow_datasets as tfds\n",
        "import matplotlib.pyplot as plt\n",
        "import pandas as pd\n",
        "import numpy as np"
      ],
      "execution_count": 2,
      "outputs": []
    },
    {
      "cell_type": "markdown",
      "metadata": {
        "id": "hLa3cvKM0J7O"
      },
      "source": [
        "## Load AMPs dataset\n",
        "Since we would not load all our dataset in memory we use tf.data.TextLineDataset to read batches of AMPs and feed them into a model. This way we could scale our computing capacity at different dataset sizes."
      ]
    },
    {
      "cell_type": "code",
      "metadata": {
        "id": "BP4gHy15foOy"
      },
      "source": [
        "peptide_tld = tf.data.TextLineDataset(\"/content/peptides_2020.txt\")"
      ],
      "execution_count": 3,
      "outputs": []
    },
    {
      "cell_type": "code",
      "metadata": {
        "id": "RKxUjCWBvs2o",
        "outputId": "eb0b0d48-fec0-4933-ac0b-b24533a60a1c",
        "colab": {
          "base_uri": "https://localhost:8080/",
          "height": 72
        }
      },
      "source": [
        "unique_peptides = set()\n",
        "max_length = 0\n",
        "min_length = 100\n",
        "for peptide in peptide_tld.take(-1):\n",
        "  peptide = peptide.numpy()\n",
        "  max_length = max(max_length, len(peptide))\n",
        "  min_length = min(min_length, len(peptide))\n",
        "  unique_peptides.add(peptide)\n",
        "\n",
        "print(\"Number of unique AMPs {}.\".format(str(len(unique_peptides))))\n",
        "print(\"Min AMPs length {}.\".format(str(min_length)))\n",
        "print(\"Max AMPs length {}.\".format(str(max_length)))"
      ],
      "execution_count": 4,
      "outputs": [
        {
          "output_type": "stream",
          "text": [
            "Number of unique AMPs 12794.\n",
            "Min AMPs length 6.\n",
            "Max AMPs length 299.\n"
          ],
          "name": "stdout"
        }
      ]
    },
    {
      "cell_type": "markdown",
      "metadata": {
        "id": "iVGIA_-_3KhM"
      },
      "source": [
        "## Basic EDA\n",
        "The AMPs length distribution ranges from 13-26 (percentiles 25-75), there are AMPs with length > 50 but they are not so common. \n",
        " \n",
        "This helps us to know the importance to use padding by batch during or data pipeline and not to pad all AMPs sequences to max_length.\n",
        "\n"
      ]
    },
    {
      "cell_type": "code",
      "metadata": {
        "id": "VtbqxPbbzPII",
        "outputId": "1128a12c-1718-458c-ba2e-ff8445971034",
        "colab": {
          "base_uri": "https://localhost:8080/",
          "height": 182
        }
      },
      "source": [
        "pd_amps = pd.DataFrame(unique_peptides, columns=[\"AMPs\"])\n",
        "pd_amps[\"len\"] = pd_amps.AMPs.apply(lambda x: len(x))\n",
        "pd_amps.len.describe()"
      ],
      "execution_count": 5,
      "outputs": [
        {
          "output_type": "execute_result",
          "data": {
            "text/plain": [
              "count    12794.000000\n",
              "mean        23.928091\n",
              "std         22.561189\n",
              "min          6.000000\n",
              "25%         13.000000\n",
              "50%         18.000000\n",
              "75%         26.000000\n",
              "max        299.000000\n",
              "Name: len, dtype: float64"
            ]
          },
          "metadata": {
            "tags": []
          },
          "execution_count": 5
        }
      ]
    },
    {
      "cell_type": "code",
      "metadata": {
        "id": "qL53k7Bxz21G",
        "outputId": "5e75b11e-d187-4d11-a30e-57d59565b34d",
        "colab": {
          "base_uri": "https://localhost:8080/",
          "height": 592
        }
      },
      "source": [
        "grouped_pd_amps = pd_amps.groupby(\"len\").count()\n",
        "\n",
        "plt.figure(figsize=(15,10))\n",
        "plt.bar(grouped_pd_amps.index, \n",
        "        grouped_pd_amps.AMPs,\n",
        "        width=2\n",
        "        )\n",
        "\n",
        "plt.show()"
      ],
      "execution_count": 6,
      "outputs": [
        {
          "output_type": "display_data",
          "data": {
            "image/png": "[encoded data removed]",
            "text/plain": [
              "<Figure size 1080x720 with 1 Axes>"
            ]
          },
          "metadata": {
            "tags": [],
            "needs_background": "light"
          }
        }
      ]
    },
    {
      "cell_type": "markdown",
      "metadata": {
        "id": "UCf-_QiORJyk"
      },
      "source": [
        "# Encode AMPs aminoacids as numbers"
      ]
    },
    {
      "cell_type": "markdown",
      "metadata": {
        "id": "LFQVHJIuR3nH"
      },
      "source": [
        "## Build vocabulary\n",
        "\n",
        "Capture AMPs aminoacids"
      ]
    },
    {
      "cell_type": "code",
      "metadata": {
        "id": "N7ORghmqBRq5"
      },
      "source": [
        "tokenizer = tfds.deprecated.text.Tokenizer()"
      ],
      "execution_count": 7,
      "outputs": []
    },
    {
      "cell_type": "code",
      "metadata": {
        "id": "ObnDeg7vRM0l"
      },
      "source": [
        "tokenizer = tfds.deprecated.text.Tokenizer()\n",
        "vocab_list = set()\n",
        "for peptide in peptide_tld.take(-1):\n",
        "  peptide = peptide.numpy()\n",
        "  peptide = list(peptide.decode(\"utf-8\"))\n",
        "  vocab_list.update(peptide)"
      ],
      "execution_count": 8,
      "outputs": []
    },
    {
      "cell_type": "code",
      "metadata": {
        "id": "1K0KHQLHCXVX",
        "outputId": "3894d485-d040-4e1a-eee0-b86c92d3856d",
        "colab": {
          "base_uri": "https://localhost:8080/",
          "height": 384
        }
      },
      "source": [
        "print(\"Number aminoacids {}\".format(len(vocab_list)))\n",
        "encoder = tfds.deprecated.text.TokenTextEncoder(vocab_list=vocab_list, decode_token_separator=\"\")\n",
        "vocab_list"
      ],
      "execution_count": 9,
      "outputs": [
        {
          "output_type": "stream",
          "text": [
            "Number aminoacids 19\n"
          ],
          "name": "stdout"
        },
        {
          "output_type": "execute_result",
          "data": {
            "text/plain": [
              "{'A',\n",
              " 'D',\n",
              " 'E',\n",
              " 'F',\n",
              " 'G',\n",
              " 'H',\n",
              " 'I',\n",
              " 'K',\n",
              " 'L',\n",
              " 'M',\n",
              " 'N',\n",
              " 'P',\n",
              " 'Q',\n",
              " 'R',\n",
              " 'S',\n",
              " 'T',\n",
              " 'V',\n",
              " 'W',\n",
              " 'Y'}"
            ]
          },
          "metadata": {
            "tags": []
          },
          "execution_count": 9
        }
      ]
    },
    {
      "cell_type": "markdown",
      "metadata": {
        "id": "Y-2XmklxMW16"
      },
      "source": [
        "## encoder - decoder wrapper functions\n",
        "\n",
        "Create encoder and decoder functions"
      ]
    },
    {
      "cell_type": "code",
      "metadata": {
        "id": "xgXCyPQfK-F1"
      },
      "source": [
        "def encode(peptide):\n",
        "  peptide = peptide.numpy()\n",
        "  peptide = \" \".join(list(peptide.decode(\"utf-8\")))\n",
        "  encoded_peptide = encoder.encode(peptide)\n",
        "  return [encoded_peptide]\n",
        "\n",
        "def decode(encoded_peptide):\n",
        "  peptide = encoder.decode(encoded_peptide)\n",
        "  return peptide"
      ],
      "execution_count": 10,
      "outputs": []
    },
    {
      "cell_type": "code",
      "metadata": {
        "id": "2VC-kteqEVsg",
        "outputId": "c5902843-1e16-4c86-9f41-e2f62e83648e",
        "colab": {
          "base_uri": "https://localhost:8080/",
          "height": 476
        }
      },
      "source": [
        "for peptide in peptide_tld.take(5):\n",
        "  print(peptide.numpy())\n",
        "  encoded_peptide = encode(peptide=peptide)\n",
        "  print(encoded_peptide)\n",
        "  decoded_peptide = decode(encoded_peptide=encoded_peptide[0])\n",
        "  print(decoded_peptide)\n",
        "  print(\"\\n\")"
      ],
      "execution_count": 11,
      "outputs": [
        {
          "output_type": "stream",
          "text": [
            "b'MPKTRRRPRRSQRKRPPTPWPYGRKKRRQRRR'\n",
            "[[14, 1, 2, 13, 3, 3, 3, 1, 3, 3, 19, 11, 3, 2, 3, 1, 1, 13, 1, 15, 1, 10, 8, 3, 2, 2, 3, 3, 11, 3, 3, 3]]\n",
            "MPKTRRRPRRSQRKRPPTPWPYGRKKRRQRRR\n",
            "\n",
            "\n",
            "b'KLWKLWLKWLL'\n",
            "[[2, 17, 15, 2, 17, 15, 17, 2, 15, 17, 17]]\n",
            "KLWKLWLKWLL\n",
            "\n",
            "\n",
            "b'GINASVVNIQKEIDRLNEVAKNLNESLIDLQELGKYE'\n",
            "[[8, 12, 16, 7, 19, 18, 18, 16, 12, 11, 2, 9, 12, 6, 3, 17, 16, 9, 18, 7, 2, 16, 17, 16, 9, 19, 17, 12, 6, 17, 11, 9, 17, 8, 2, 10, 9]]\n",
            "GINASVVNIQKEIDRLNEVAKNLNESLIDLQELGKYE\n",
            "\n",
            "\n",
            "b'IKELLPHLSGIIDSVANAIK'\n",
            "[[12, 2, 9, 17, 17, 1, 4, 17, 19, 8, 12, 12, 6, 19, 18, 7, 16, 7, 12, 2]]\n",
            "IKELLPHLSGIIDSVANAIK\n",
            "\n",
            "\n",
            "b'FLPLIGKVLSSIL'\n",
            "[[5, 17, 1, 17, 12, 8, 2, 18, 17, 19, 19, 12, 17]]\n",
            "FLPLIGKVLSSIL\n",
            "\n",
            "\n"
          ],
          "name": "stdout"
        }
      ]
    },
    {
      "cell_type": "markdown",
      "metadata": {
        "id": "8_UsVT3OMe4N"
      },
      "source": [
        "## Create encode-decode wrapper tf.py_function\n",
        "Create a tf.py_function wrapper So you can .map this function directly. The tf.py_function will pass regular tensors (with a value and a .numpy() method to access it), to the wrapped python function.\n",
        "You want to use Dataset.map to apply this function to each element of the dataset. Dataset.map runs in graph mode.\n",
        "\n",
        "  * Graph tensors do not have a value.\n",
        "  * In graph mode you can only use TensorFlow Ops and functions.\n"
      ]
    },
    {
      "cell_type": "code",
      "metadata": {
        "id": "LkYhd-mMMzGA"
      },
      "source": [
        "def encode_map_fn(peptide):\n",
        "  # py_func doesn't set the shape of the returned tensors.\n",
        "  encoded_peptide = tf.py_function(encode,\n",
        "                                inp=[peptide], \n",
        "                                Tout=(tf.int64))\n",
        "  \n",
        "  # `tf.data.Datasets` work best if all components have a shape set\n",
        "  #  so set the shapes manually: \n",
        "  encoded_peptide.set_shape([None])\n",
        "  return encoded_peptide"
      ],
      "execution_count": 12,
      "outputs": []
    },
    {
      "cell_type": "markdown",
      "metadata": {
        "id": "R-nnHNvfP0qz"
      },
      "source": [
        "## Final dataset pipeline\n",
        "At this point we compare two pipeline variations.\n",
        "  1. Shuffle dataset with buffer size, apply aminoacid to number encoder, take batch and pad it.\n",
        "  2. Apply aminoacid to number encoder, Shuffle dataset with buffer size, take batch and pad it.\n",
        "\n",
        "After comparing this to ways to create the pipeline we observe is faster to use option 1 since taking one batch takes aprox 34.1 ms compared with option 2 which takes aprox 1.56 seg.\n",
        "\n",
        "With this we finish out the process to create a dataset pipeline with AMPs and we are ready to use at modelation stage."
      ]
    },
    {
      "cell_type": "code",
      "metadata": {
        "id": "27jvgrfePzcy"
      },
      "source": [
        "BUFFER_SIZE = 6000\n",
        "BATCH_SIZE = 64\n",
        "TAKE_SIZE = 500"
      ],
      "execution_count": 13,
      "outputs": []
    },
    {
      "cell_type": "code",
      "metadata": {
        "id": "P35Ti80bP7AB"
      },
      "source": [
        "encoded_peptide_tld_1 = peptide_tld.shuffle(BUFFER_SIZE).map(encode_map_fn).padded_batch(BATCH_SIZE)\n",
        "encoded_peptide_tld_2 = peptide_tld.map(encode_map_fn).shuffle(BUFFER_SIZE).padded_batch(BATCH_SIZE)"
      ],
      "execution_count": 14,
      "outputs": []
    },
    {
      "cell_type": "code",
      "metadata": {
        "id": "y0aiwg9TNpbo"
      },
      "source": [
        "def take(pipeline, n_take):\n",
        "  for encoded_peptide in pipeline.take(n_take):\n",
        "    print(encoded_peptide)\n",
        "    print(\"\\n\")"
      ],
      "execution_count": 15,
      "outputs": []
    },
    {
      "cell_type": "code",
      "metadata": {
        "id": "pu10nOZFR4Yh",
        "outputId": "3871a77b-07d5-4c55-f2d1-7eda71f1b9e0",
        "colab": {
          "base_uri": "https://localhost:8080/",
          "height": 1000
        }
      },
      "source": [
        "%timeit take(encoded_peptide_tld_1, 1)"
      ],
      "execution_count": 16,
      "outputs": [
        {
          "output_type": "stream",
          "text": [
            "tf.Tensor(\n",
            "[[ 8 17 17 ...  0  0  0]\n",
            " [ 8 17 17 ...  0  0  0]\n",
            " [ 2 15  2 ...  0  0  0]\n",
            " ...\n",
            " [ 2  2 15 ...  0  0  0]\n",
            " [ 2  2 15 ...  0  0  0]\n",
            " [ 8  3  3 ...  0  0  0]], shape=(64, 67), dtype=int64)\n",
            "\n",
            "\n",
            "tf.Tensor(\n",
            "[[ 8 12  8 ...  0  0  0]\n",
            " [ 8 17  2 ...  0  0  0]\n",
            " [14  2  2 ...  0  0  0]\n",
            " ...\n",
            " [ 6  6  7 ...  0  0  0]\n",
            " [ 2  2 15 ...  0  0  0]\n",
            " [14 19  3 ...  0  0  0]], shape=(64, 103), dtype=int64)\n",
            "\n",
            "\n",
            "tf.Tensor(\n",
            "[[ 8 14 15 ...  0  0  0]\n",
            " [17 17  8 ...  0  0  0]\n",
            " [13  5  5 ...  0  0  0]\n",
            " ...\n",
            " [ 5 12  4 ...  0  0  0]\n",
            " [ 3  3  2 ...  0  0  0]\n",
            " [ 7  3 17 ...  3  4 14]], shape=(64, 75), dtype=int64)\n",
            "\n",
            "\n",
            "tf.Tensor(\n",
            "[[17 17  1 ...  0  0  0]\n",
            " [ 8 17 17 ...  0  0  0]\n",
            " [15  2  2 ...  0  0  0]\n",
            " ...\n",
            " [ 3  5  3 ...  0  0  0]\n",
            " [ 8 17  2 ...  0  0  0]\n",
            " [ 7 18  8 ...  0  0  0]], shape=(64, 152), dtype=int64)\n",
            "\n",
            "\n",
            "tf.Tensor(\n",
            "[[19  1  3 ...  0  0  0]\n",
            " [17  2 17 ...  0  0  0]\n",
            " [15 12 11 ...  0  0  0]\n",
            " ...\n",
            " [ 2 17  2 ...  0  0  0]\n",
            " [ 5  1  9 ...  0  0  0]\n",
            " [ 1  8 13 ...  0  0  0]], shape=(64, 120), dtype=int64)\n",
            "\n",
            "\n",
            "tf.Tensor(\n",
            "[[ 2 16 17 ...  0  0  0]\n",
            " [ 8 15  3 ...  0  0  0]\n",
            " [ 1  3  7 ...  0  0  0]\n",
            " ...\n",
            " [19 13 18 ...  0  0  0]\n",
            " [18 13  6 ...  0  0  0]\n",
            " [ 9  2  7 ...  0  0  0]], shape=(64, 144), dtype=int64)\n",
            "\n",
            "\n",
            "tf.Tensor(\n",
            "[[ 2  2  2 ...  0  0  0]\n",
            " [ 7  9  9 ...  0  0  0]\n",
            " [ 3  3  2 ...  0  0  0]\n",
            " ...\n",
            " [19 15  9 ...  0  0  0]\n",
            " [13 14 13 ...  0  0  0]\n",
            " [ 8 17  3 ...  0  0  0]], shape=(64, 90), dtype=int64)\n",
            "\n",
            "\n",
            "tf.Tensor(\n",
            "[[16 12  1 ...  0  0  0]\n",
            " [ 2 17  1 ...  0  0  0]\n",
            " [ 2  2  5 ...  0  0  0]\n",
            " ...\n",
            " [12 16  1 ...  0  0  0]\n",
            " [18  2  3 ...  0  0  0]\n",
            " [ 2 15  2 ...  0  0  0]], shape=(64, 93), dtype=int64)\n",
            "\n",
            "\n",
            "tf.Tensor(\n",
            "[[ 2  2 15 ...  0  0  0]\n",
            " [12 16 15 ...  0  0  0]\n",
            " [ 5  2 11 ...  0  0  0]\n",
            " ...\n",
            " [12 12  1 ...  0  0  0]\n",
            " [ 5  7 17 ...  0  0  0]\n",
            " [18  6 12 ...  0  0  0]], shape=(64, 194), dtype=int64)\n",
            "\n",
            "\n",
            "tf.Tensor(\n",
            "[[ 8 12 15 ...  0  0  0]\n",
            " [18  9  9 ...  0  0  0]\n",
            " [ 7  3 10 ...  0  0  0]\n",
            " ...\n",
            " [ 5  7  2 ...  0  0  0]\n",
            " [12 17  8 ...  0  0  0]\n",
            " [ 8 14  7 ...  0  0  0]], shape=(64, 95), dtype=int64)\n",
            "\n",
            "\n",
            "tf.Tensor(\n",
            "[[12 17  8 ...  0  0  0]\n",
            " [19  1 12 ...  0  0  0]\n",
            " [ 3 17 15 ...  0  0  0]\n",
            " ...\n",
            " [ 8  5  2 ...  0  0  0]\n",
            " [10 13 19 ...  0  0  0]\n",
            " [ 7  6 17 ...  0  0  0]], shape=(64, 80), dtype=int64)\n",
            "\n",
            "\n",
            "tf.Tensor(\n",
            "[[ 2 15 15 ...  0  0  0]\n",
            " [17 17  1 ...  0  0  0]\n",
            " [ 2 12 17 ...  0  0  0]\n",
            " ...\n",
            " [ 8  2 17 ...  0  0  0]\n",
            " [15  1  2 ...  0  0  0]\n",
            " [ 5 17  1 ...  0  0  0]], shape=(64, 272), dtype=int64)\n",
            "\n",
            "\n",
            "tf.Tensor(\n",
            "[[ 4  5 17 ...  0  0  0]\n",
            " [ 5 17  1 ...  0  0  0]\n",
            " [15  7 15 ...  0  0  0]\n",
            " ...\n",
            " [12 17  8 ...  0  0  0]\n",
            " [15  3 15 ...  0  0  0]\n",
            " [ 8 17  7 ...  0  0  0]], shape=(64, 231), dtype=int64)\n",
            "\n",
            "\n",
            "tf.Tensor(\n",
            "[[ 5 17  5 ...  0  0  0]\n",
            " [ 2 14 13 ...  0  0  0]\n",
            " [ 8 16  3 ...  0  0  0]\n",
            " ...\n",
            " [15 10  7 ...  0  0  0]\n",
            " [ 2  1  2 ...  0  0  0]\n",
            " [ 2  1 15 ...  0  0  0]], shape=(64, 131), dtype=int64)\n",
            "\n",
            "\n",
            "tf.Tensor(\n",
            "[[17 17  9 ...  0  0  0]\n",
            " [ 8 19 19 ...  0  0  0]\n",
            " [ 8 14 19 ...  0  0  0]\n",
            " ...\n",
            " [14  5  2 ... 15  8 16]\n",
            " [18  7  2 ...  0  0  0]\n",
            " [ 2  2  2 ...  0  0  0]], shape=(64, 98), dtype=int64)\n",
            "\n",
            "\n",
            "tf.Tensor(\n",
            "[[17  1  1 ...  0  0  0]\n",
            " [ 3 17  2 ...  0  0  0]\n",
            " [ 6  8 19 ...  0  0  0]\n",
            " ...\n",
            " [ 3  2 15 ...  0  0  0]\n",
            " [ 3  3  3 ...  0  0  0]\n",
            " [ 8 17  5 ...  0  0  0]], shape=(64, 272), dtype=int64)\n",
            "\n",
            "\n",
            "tf.Tensor(\n",
            "[[ 3  3  7 ...  0  0  0]\n",
            " [ 6  7  3 ...  0  0  0]\n",
            " [15 14  9 ...  0  0  0]\n",
            " ...\n",
            " [19  9  6 ...  0  0  0]\n",
            " [ 1 19 17 ...  0  0  0]\n",
            " [ 3 18 17 ...  0  0  0]], shape=(64, 90), dtype=int64)\n",
            "\n",
            "\n",
            "tf.Tensor(\n",
            "[[ 2  8 17 ...  0  0  0]\n",
            " [ 7 17 15 ...  0  0  0]\n",
            " [ 8 12  4 ...  0  0  0]\n",
            " ...\n",
            " [ 7  2  2 ...  0  0  0]\n",
            " [ 8  2  1 ...  0  0  0]\n",
            " [ 8 12 17 ...  0  0  0]], shape=(64, 93), dtype=int64)\n",
            "\n",
            "\n",
            "tf.Tensor(\n",
            "[[ 8 12 17 ...  0  0  0]\n",
            " [12  5  8 ...  0  0  0]\n",
            " [18  8 18 ...  0  0  0]\n",
            " ...\n",
            " [12 17  2 ...  0  0  0]\n",
            " [ 8 17 17 ...  0  0  0]\n",
            " [ 8 12  8 ...  0  0  0]], shape=(64, 95), dtype=int64)\n",
            "\n",
            "\n",
            "tf.Tensor(\n",
            "[[14  2 17 ... 12  1  6]\n",
            " [10  1  1 ...  0  0  0]\n",
            " [ 9  5  3 ...  0  0  0]\n",
            " ...\n",
            " [13 13 16 ...  0  0  0]\n",
            " [ 8 17  5 ...  0  0  0]\n",
            " [14  6  1 ...  0  0  0]], shape=(64, 167), dtype=int64)\n",
            "\n",
            "\n",
            "tf.Tensor(\n",
            "[[ 5 17  2 ...  0  0  0]\n",
            " [17 17  1 ...  0  0  0]\n",
            " [17  2  9 ...  0  0  0]\n",
            " ...\n",
            " [ 2  2  2 ...  0  0  0]\n",
            " [ 8 17 17 ...  0  0  0]\n",
            " [18  9 18 ...  0  0  0]], shape=(64, 220), dtype=int64)\n",
            "\n",
            "\n",
            "tf.Tensor(\n",
            "[[ 8 17 17 ...  0  0  0]\n",
            " [18  6  2 ...  0  0  0]\n",
            " [ 5  5  3 ...  0  0  0]\n",
            " ...\n",
            " [ 8 12  8 ...  0  0  0]\n",
            " [ 8 17 17 ...  0  0  0]\n",
            " [ 2  2  2 ...  0  0  0]], shape=(64, 81), dtype=int64)\n",
            "\n",
            "\n",
            "tf.Tensor(\n",
            "[[ 5 17  1 ...  0  0  0]\n",
            " [ 7 15  2 ...  0  0  0]\n",
            " [ 3 11  2 ...  0  0  0]\n",
            " ...\n",
            " [ 8  5 14 ...  0  0  0]\n",
            " [12 17  1 ...  0  0  0]\n",
            " [ 4  5 17 ...  0  0  0]], shape=(64, 133), dtype=int64)\n",
            "\n",
            "\n",
            "tf.Tensor(\n",
            "[[ 3  5  7 ...  0  0  0]\n",
            " [ 8  5 13 ...  0  0  0]\n",
            " [17 19  1 ...  0  0  0]\n",
            " ...\n",
            " [ 7 18  2 ...  0  0  0]\n",
            " [ 8 17 17 ...  0  0  0]\n",
            " [ 1  1  8 ...  0  0  0]], shape=(64, 272), dtype=int64)\n",
            "\n",
            "\n",
            "tf.Tensor(\n",
            "[[19 15  8 ...  0  0  0]\n",
            " [ 8 12  8 ...  0  0  0]\n",
            " [11 11  6 ...  0  0  0]\n",
            " ...\n",
            " [ 2 17  5 ...  0  0  0]\n",
            " [ 2  5 15 ...  0  0  0]\n",
            " [19 12 17 ...  0  0  0]], shape=(64, 274), dtype=int64)\n",
            "\n",
            "\n",
            "tf.Tensor(\n",
            "[[ 5  7  2 ...  0  0  0]\n",
            " [ 8 17  4 ...  0  0  0]\n",
            " [ 8 17  3 ...  0  0  0]\n",
            " ...\n",
            " [ 7  8  3 ...  0  0  0]\n",
            " [ 3  3 17 ...  0  0  0]\n",
            " [ 3  3  3 ...  0  0  0]], shape=(64, 153), dtype=int64)\n",
            "\n",
            "\n",
            "tf.Tensor(\n",
            "[[ 2  2 17 ...  0  0  0]\n",
            " [ 2  2 17 ...  0  0  0]\n",
            " [ 8 17  3 ...  0  0  0]\n",
            " ...\n",
            " [ 1  2 19 ...  0  0  0]\n",
            " [ 8 17 15 ...  0  0  0]\n",
            " [ 3  3  1 ...  0  0  0]], shape=(64, 131), dtype=int64)\n",
            "\n",
            "\n",
            "tf.Tensor(\n",
            "[[ 8 18 18 ...  0  0  0]\n",
            " [ 2 17 19 ...  0  0  0]\n",
            " [ 5 12  2 ...  0  0  0]\n",
            " ...\n",
            " [17  3  5 ...  0  0  0]\n",
            " [17  1 17 ...  0  0  0]\n",
            " [ 2 15  2 ...  0  0  0]], shape=(64, 209), dtype=int64)\n",
            "\n",
            "\n",
            "tf.Tensor(\n",
            "[[12 18  3 ...  0  0  0]\n",
            " [ 7  2  7 ...  0  0  0]\n",
            " [ 9  7  2 ...  0  0  0]\n",
            " ...\n",
            " [ 8 17 15 ...  0  0  0]\n",
            " [ 8 17  2 ...  0  0  0]\n",
            " [ 3  3 12 ...  0  0  0]], shape=(64, 60), dtype=int64)\n",
            "\n",
            "\n",
            "tf.Tensor(\n",
            "[[ 3 18 12 ...  0  0  0]\n",
            " [ 7 18  1 ...  0  0  0]\n",
            " [16 19 18 ...  0  0  0]\n",
            " ...\n",
            " [12 17  8 ...  0  0  0]\n",
            " [16 12 17 ...  0  0  0]\n",
            " [ 8 17  2 ...  0  0  0]], shape=(64, 258), dtype=int64)\n",
            "\n",
            "\n",
            "tf.Tensor(\n",
            "[[14  7  2 ...  0  0  0]\n",
            " [ 8 18 17 ...  0  0  0]\n",
            " [ 5 12  8 ...  0  0  0]\n",
            " ...\n",
            " [ 5 15  3 ...  0  0  0]\n",
            " [ 2 16 17 ...  0  0  0]\n",
            " [12  2 15 ...  0  0  0]], shape=(64, 183), dtype=int64)\n",
            "\n",
            "\n",
            "tf.Tensor(\n",
            "[[ 3  3  2 ...  0  0  0]\n",
            " [ 7 17  2 ...  0  0  0]\n",
            " [14  2 10 ...  0  0  0]\n",
            " ...\n",
            " [ 8  5  2 ...  0  0  0]\n",
            " [ 8 18  5 ...  0  0  0]\n",
            " [ 5 12  3 ...  0  0  0]], shape=(64, 61), dtype=int64)\n",
            "\n",
            "\n",
            "tf.Tensor(\n",
            "[[15 15 17 ...  0  0  0]\n",
            " [17 17 12 ...  0  0  0]\n",
            " [12  8  9 ...  0  0  0]\n",
            " ...\n",
            " [ 2 15 15 ...  0  0  0]\n",
            " [12  4 18 ...  0  0  0]\n",
            " [12 19  6 ...  0  0  0]], shape=(64, 212), dtype=int64)\n",
            "\n",
            "\n",
            "tf.Tensor(\n",
            "[[19  6  4 ...  0  0  0]\n",
            " [ 8 15 17 ...  0  0  0]\n",
            " [14 11  5 ...  0  0  0]\n",
            " ...\n",
            " [17  2  2 ...  0  0  0]\n",
            " [ 2 17 12 ...  0  0  0]\n",
            " [ 8 17  5 ...  0  0  0]], shape=(64, 90), dtype=int64)\n",
            "\n",
            "\n",
            "tf.Tensor(\n",
            "[[ 3  3  2 ...  0  0  0]\n",
            " [ 1  2 17 ...  0  0  0]\n",
            " [17 17  2 ...  0  0  0]\n",
            " ...\n",
            " [16  2  1 ...  0  0  0]\n",
            " [ 1  3  1 ...  0  0  0]\n",
            " [19  2 19 ...  0  0  0]], shape=(64, 85), dtype=int64)\n",
            "\n",
            "\n",
            "tf.Tensor(\n",
            "[[ 5 17 10 ...  0  0  0]\n",
            " [ 2 17  2 ...  0  0  0]\n",
            " [ 7  8 10 ...  0  0  0]\n",
            " ...\n",
            " [17 17  1 ...  0  0  0]\n",
            " [ 7  7 17 ...  0  0  0]\n",
            " [11 11  6 ...  0  0  0]], shape=(64, 272), dtype=int64)\n",
            "\n",
            "\n",
            "tf.Tensor(\n",
            "[[10 11 17 ...  0  0  0]\n",
            " [ 9 11 19 ...  0  0  0]\n",
            " [ 3 18 18 ...  0  0  0]\n",
            " ...\n",
            " [ 8  7 13 ...  0  0  0]\n",
            " [ 2 17 15 ...  0  0  0]\n",
            " [ 9 16  3 ...  0  0  0]], shape=(64, 100), dtype=int64)\n",
            "\n",
            "\n",
            "tf.Tensor(\n",
            "[[14 16  5 ...  0  0  0]\n",
            " [ 3  3  5 ...  0  0  0]\n",
            " [ 2 16 17 ...  0  0  0]\n",
            " ...\n",
            " [12 18 15 ...  0  0  0]\n",
            " [ 9 13  5 ...  0  0  0]\n",
            " [ 2 15  2 ...  0  0  0]], shape=(64, 78), dtype=int64)\n",
            "\n",
            "\n",
            "tf.Tensor(\n",
            "[[14  2 17 ...  4  0  0]\n",
            " [17 11  6 ...  0  0  0]\n",
            " [ 3 16  1 ...  0  0  0]\n",
            " ...\n",
            " [ 8 12  2 ...  0  0  0]\n",
            " [15 15  3 ...  0  0  0]\n",
            " [ 5  7  9 ...  0  0  0]], shape=(64, 69), dtype=int64)\n",
            "\n",
            "\n",
            "tf.Tensor(\n",
            "[[ 8 12  8 ...  0  0  0]\n",
            " [ 2 12 15 ...  0  0  0]\n",
            " [18  7 17 ...  0  0  0]\n",
            " ...\n",
            " [ 7  7  2 ...  0  0  0]\n",
            " [ 8 18 18 ...  0  0  0]\n",
            " [ 2  1  5 ...  0  0  0]], shape=(64, 54), dtype=int64)\n",
            "\n",
            "\n",
            "tf.Tensor(\n",
            "[[ 2 18  1 ...  0  0  0]\n",
            " [ 7 19  7 ...  0  0  0]\n",
            " [17 17  8 ...  0  0  0]\n",
            " ...\n",
            " [ 6 12  8 ...  0  0  0]\n",
            " [ 7  2 17 ...  0  0  0]\n",
            " [ 5 12 17 ...  0  0  0]], shape=(64, 220), dtype=int64)\n",
            "\n",
            "\n",
            "10 loops, best of 3: 34.1 ms per loop\n"
          ],
          "name": "stdout"
        }
      ]
    },
    {
      "cell_type": "code",
      "metadata": {
        "id": "D9DpFRv_SKjI",
        "outputId": "8bac5d64-155f-4ce8-b160-5f88f28457b3",
        "colab": {
          "base_uri": "https://localhost:8080/",
          "height": 1000
        }
      },
      "source": [
        "%timeit take(encoded_peptide_tld_2, 2)"
      ],
      "execution_count": 17,
      "outputs": [
        {
          "output_type": "stream",
          "text": [
            "tf.Tensor(\n",
            "[[12  7  7 ...  0  0  0]\n",
            " [ 2 16 15 ...  0  0  0]\n",
            " [19 15 19 ...  0  0  0]\n",
            " ...\n",
            " [ 8 17  5 ...  0  0  0]\n",
            " [ 3  3  3 ...  0  0  0]\n",
            " [ 3  5  3 ...  0  0  0]], shape=(64, 110), dtype=int64)\n",
            "\n",
            "\n",
            "tf.Tensor(\n",
            "[[14  2 15 ...  0  0  0]\n",
            " [12 17  1 ...  0  0  0]\n",
            " [ 8  5  2 ...  0  0  0]\n",
            " ...\n",
            " [ 2  2  3 ...  0  0  0]\n",
            " [ 3  1  1 ...  0  0  0]\n",
            " [12 16 15 ...  0  0  0]], shape=(64, 167), dtype=int64)\n",
            "\n",
            "\n",
            "tf.Tensor(\n",
            "[[ 2  2  2 ...  0  0  0]\n",
            " [19 15 17 ...  0  0  0]\n",
            " [12 16 15 ...  0  0  0]\n",
            " ...\n",
            " [ 5  7  2 ...  0  0  0]\n",
            " [12 12 16 ...  0  0  0]\n",
            " [ 8 12  8 ...  0  0  0]], shape=(64, 120), dtype=int64)\n",
            "\n",
            "\n",
            "tf.Tensor(\n",
            "[[ 8 17  8 ...  0  0  0]\n",
            " [14 19  7 ...  0  0  0]\n",
            " [ 7  6  1 ...  0  0  0]\n",
            " ...\n",
            " [ 2 12 16 ...  0  0  0]\n",
            " [ 1  2 12 ...  0  0  0]\n",
            " [ 8  9 17 ...  0  0  0]], shape=(64, 70), dtype=int64)\n",
            "\n",
            "\n",
            "tf.Tensor(\n",
            "[[ 3  1  1 ...  0  0  0]\n",
            " [15  2  3 ...  0  0  0]\n",
            " [14  1  2 ...  0  0  0]\n",
            " ...\n",
            " [12  2 11 ...  0  0  0]\n",
            " [ 8 17  3 ...  0  0  0]\n",
            " [ 2  2 17 ...  0  0  0]], shape=(64, 98), dtype=int64)\n",
            "\n",
            "\n",
            "tf.Tensor(\n",
            "[[ 8 17 16 ...  0  0  0]\n",
            " [ 8 17 17 ...  0  0  0]\n",
            " [ 2  5  5 ...  0  0  0]\n",
            " ...\n",
            " [ 8  1  8 ...  0  0  0]\n",
            " [ 8 17  2 ...  0  0  0]\n",
            " [17  7  8 ...  0  0  0]], shape=(64, 214), dtype=int64)\n",
            "\n",
            "\n",
            "tf.Tensor(\n",
            "[[ 3  6 19 ...  0  0  0]\n",
            " [ 2  2 17 ...  0  0  0]\n",
            " [ 4  8 17 ...  0  0  0]\n",
            " ...\n",
            " [ 6  9  9 ...  0  0  0]\n",
            " [17  7 17 ...  0  0  0]\n",
            " [13 15  5 ...  0  0  0]], shape=(64, 96), dtype=int64)\n",
            "\n",
            "\n",
            "tf.Tensor(\n",
            "[[ 5 12  8 ...  0  0  0]\n",
            " [ 2 18  7 ...  0  0  0]\n",
            " [ 5 17  1 ...  0  0  0]\n",
            " ...\n",
            " [ 8 17  3 ...  0  0  0]\n",
            " [18 16 19 ...  0  0  0]\n",
            " [ 7  9 17 ...  0  0  0]], shape=(64, 167), dtype=int64)\n",
            "\n",
            "\n",
            "1 loop, best of 3: 1.56 s per loop\n"
          ],
          "name": "stdout"
        }
      ]
    }
  ]
}